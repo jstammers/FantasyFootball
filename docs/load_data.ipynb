{
 "cells": [
  {
   "cell_type": "code",
   "execution_count": 1,
   "id": "99ca171c3afd8207",
   "metadata": {
    "ExecuteTime": {
     "end_time": "2024-12-03T16:17:42.325680Z",
     "start_time": "2024-12-03T16:17:42.120125Z"
    }
   },
   "outputs": [],
   "source": [
    "import ibis\n",
    "\n",
    "ibis.options.interactive = True"
   ]
  },
  {
   "cell_type": "code",
   "execution_count": 2,
   "id": "d864c336c6624873",
   "metadata": {
    "ExecuteTime": {
     "end_time": "2024-12-03T16:17:42.882119Z",
     "start_time": "2024-12-03T16:17:42.337142Z"
    }
   },
   "outputs": [],
   "source": [
    "con = ibis.get_backend()"
   ]
  },
  {
   "cell_type": "code",
   "execution_count": 3,
   "id": "initial_id",
   "metadata": {
    "ExecuteTime": {
     "end_time": "2024-12-03T16:17:43.065646Z",
     "start_time": "2024-12-03T16:17:43.063294Z"
    },
    "collapsed": true
   },
   "outputs": [],
   "source": [
    "import pandas as pd\n",
    "from pathlib import Path"
   ]
  },
  {
   "cell_type": "code",
   "execution_count": 48,
   "id": "8aaae39d5eac8104",
   "metadata": {
    "ExecuteTime": {
     "end_time": "2024-12-03T16:32:34.588290Z",
     "start_time": "2024-12-03T16:32:34.585513Z"
    }
   },
   "outputs": [],
   "source": [
    "data_dir = Path().cwd().parent / \"data\" / \"raw\" / \"fbref\"\n",
    "\n",
    "processed_path = data_dir.parent.parent / \"processed\" / \"fbref\""
   ]
  },
  {
   "cell_type": "code",
   "execution_count": 5,
   "id": "22431bebe6c5b64a",
   "metadata": {
    "ExecuteTime": {
     "end_time": "2024-12-03T16:17:45.247068Z",
     "start_time": "2024-12-03T16:17:44.906146Z"
    }
   },
   "outputs": [],
   "source": [
    "results_files = list(data_dir.glob(\"**/match_stats/results.csv\"))\n",
    "lineup_files = list(data_dir.glob(\"**/match_stats/lineup.csv\"))\n",
    "report_files = list(data_dir.glob(\"**/match_stats/report.csv\"))\n",
    "shooting_match = list(data_dir.glob(\"**/match_stats/shooting.csv\"))"
   ]
  },
  {
   "cell_type": "code",
   "execution_count": 6,
   "id": "316ed10444482e0f",
   "metadata": {
    "ExecuteTime": {
     "end_time": "2024-12-03T16:17:47.030823Z",
     "start_time": "2024-12-03T16:17:47.028180Z"
    }
   },
   "outputs": [],
   "source": [
    "season_stats = [\n",
    "    \"defense\",\n",
    "    \"gca\",\n",
    "    \"keepers\",\n",
    "    \"keepers_adv\",\n",
    "    \"misc\",\n",
    "    \"passing\",\n",
    "    \"passing_types\",\n",
    "    \"playing_time\",\n",
    "    \"possession\",\n",
    "    \"shooting\",\n",
    "    \"standard\",\n",
    "]"
   ]
  },
  {
   "cell_type": "code",
   "execution_count": 7,
   "id": "258564580ad3d34a",
   "metadata": {
    "ExecuteTime": {
     "end_time": "2024-12-03T16:17:59.360172Z",
     "start_time": "2024-12-03T16:17:59.357028Z"
    }
   },
   "outputs": [],
   "source": [
    "match_stats = [\n",
    "    \"defense\",\n",
    "    \"keeper\",\n",
    "    \"misc\",\n",
    "    \"passing\",\n",
    "    \"passing_types\",\n",
    "    \"possession\",\n",
    "    \"summary\",\n",
    "]"
   ]
  },
  {
   "cell_type": "code",
   "execution_count": 8,
   "id": "22b6a0066b76608a",
   "metadata": {
    "ExecuteTime": {
     "end_time": "2024-12-03T16:18:00.431894Z",
     "start_time": "2024-12-03T16:18:00.409194Z"
    }
   },
   "outputs": [],
   "source": [
    "results_schema = {\n",
    "    \"Competition_Name\": \"string\",\n",
    "    \"Gender\": \"string\",\n",
    "    \"Country\": \"string\",\n",
    "    \"Season_End_Year\": \"int64\",\n",
    "    \"Tier\": \"string\",\n",
    "    \"Round\": \"string\",\n",
    "    \"Wk\": \"int64\",\n",
    "    \"Day\": \"string\",\n",
    "    \"Date\": \"int64\",\n",
    "    \"Time\": \"time\",\n",
    "    \"Home\": \"string\",\n",
    "    \"HomeGoals\": \"int64\",\n",
    "    \"Home_xG\": \"int64\",\n",
    "    \"Away\": \"string\",\n",
    "    \"AwayGoals\": \"int64\",\n",
    "    \"Away_xG\": \"int64\",\n",
    "    \"Attendance\": \"int64\",\n",
    "    \"Venue\": \"string\",\n",
    "    \"Referee\": \"string\",\n",
    "    \"Notes\": \"string\",\n",
    "    \"MatchURL\": \"string\",\n",
    "}\n",
    "results = con.create_table(\"results\", schema=results_schema, overwrite=True)"
   ]
  },
  {
   "cell_type": "code",
   "execution_count": 29,
   "id": "794a5518e63e1736",
   "metadata": {
    "ExecuteTime": {
     "end_time": "2024-12-03T16:27:21.451201Z",
     "start_time": "2024-12-03T16:27:21.326906Z"
    }
   },
   "outputs": [],
   "source": [
    "import polars as pl\n",
    "\n",
    "df = pl.scan_csv(results_files).collect()"
   ]
  },
  {
   "cell_type": "code",
   "execution_count": 31,
   "id": "b8cffe7bfd97574d",
   "metadata": {
    "ExecuteTime": {
     "end_time": "2024-12-03T16:27:25.610102Z",
     "start_time": "2024-12-03T16:27:25.605928Z"
    }
   },
   "outputs": [],
   "source": [
    "competition_mapper = {\n",
    "    \"Premier League\": (\"ENG\", \"M\", \"1st\"),\n",
    "    \"EFL Championship\": (\"ENG\", \"M\", \"2nd\"),\n",
    "    \"EFL League One\": (\"ENG\", \"M\", \"3rd\"),\n",
    "    \"EFL League Two\": (\"ENG\", \"M\", \"4th\"),\n",
    "    \"National League\": (\"ENG\", \"M\", \"5th\"),\n",
    "    \"La Liga\": (\"ESP\", \"M\", \"1st\"),\n",
    "    \"Spanish Segunda División\": (\"ESP\", \"M\", \"2nd\"),\n",
    "    \"Fußball-Bundesliga\": (\"GER\", \"M\", \"1st\"),\n",
    "    \"2. Fußball-Bundesliga\": (\"GER\", \"M\", \"2nd\"),\n",
    "    \"3. Fußball-Liga\": (\"GER\", \"M\", \"3rd\"),\n",
    "    \"Serie A\": (\"ITA\", \"M\", \"1st\"),\n",
    "    \"Serie B\": (\"ITA\", \"M\", \"2nd\"),\n",
    "    \"Ligue 1\": (\"FRA\", \"M\", \"1st\"),\n",
    "    \"Ligue 2\": (\"FRA\", \"M\", \"2nd\"),\n",
    "    \"Frauen-Bundesliga\": (\"GER\", \"F\", \"1st\"),\n",
    "    \"Championnat de France de Football Féminin\": (\"FRA\", \"F\", \"1st\"),\n",
    "    \"FA Women's Super League\": (\"ENG\", \"F\", \"1st\"),\n",
    "    \"Liga F\": (\"ESP\", \"F\", \"1st\"),\n",
    "    \"Premier League 2\": (\"ENG\", \"M\", \"1st\"),\n",
    "    \"Premier League 2 — Division 2\": (\"ENG\", \"M\", \"2nd\"),\n",
    "    \"A-Junioren Bundesliga\": (\"GER\", \"M\", \"1st\"),\n",
    "    \"U19 DFB Youth League\": (\"GER\", \"M\", \"1st\"),\n",
    "    \"B-Junioren Bundesliga\": (\"GER\", \"M\", \"1st\"),\n",
    "    \"U17 DFB Youth League\": (\"GER\", \"M\", \"1st\"),\n",
    "    \"Première Ligue\": (\"FRA\", \"M\", \"1st\"),\n",
    "}\n",
    "\n",
    "name_mappings = {\n",
    "    \"A-Junioren Bundesliga\": \"U19 DFB Youth League\",\n",
    "    \"B-Junioren Bundesliga\": \"U17 DFB Youth League\",\n",
    "    \"Première Ligue\": \"Ligue 1\",\n",
    "    \"Budesliga\": \"Bundesliga\",\n",
    "}"
   ]
  },
  {
   "cell_type": "code",
   "execution_count": 33,
   "id": "90067c2618db077",
   "metadata": {
    "ExecuteTime": {
     "end_time": "2024-12-03T16:27:39.766103Z",
     "start_time": "2024-12-03T16:27:39.384582Z"
    }
   },
   "outputs": [],
   "source": [
    "df = df.with_columns(\n",
    "    Competition_Name=pl.col(\"Competition_Name\").replace(name_mappings),\n",
    "    Gender=pl.col(\"Competition_Name\").replace(\n",
    "        {k: v[1] for k, v in competition_mapper.items()}\n",
    "    ),\n",
    "    Country=pl.col(\"Competition_Name\").replace(\n",
    "        {k: v[0] for k, v in competition_mapper.items()}\n",
    "    ),\n",
    "    Tier=pl.col(\"Competition_Name\").replace(\n",
    "        {k: v[2] for k, v in competition_mapper.items()}\n",
    "    ),\n",
    "    Date=pl.col(\"Date\").str.to_date(),\n",
    ").with_columns(\n",
    "    Season_End_Year=pl.when(pl.col(\"Date\").dt.month().gt(6))\n",
    "    .then(pl.col(\"Date\").dt.year())\n",
    "    .otherwise(pl.col(\"Date\").dt.year() - 1)\n",
    ")"
   ]
  },
  {
   "cell_type": "code",
   "execution_count": 40,
   "id": "8527e666693425a6",
   "metadata": {
    "ExecuteTime": {
     "end_time": "2024-12-03T16:29:57.492376Z",
     "start_time": "2024-12-03T16:29:57.488975Z"
    }
   },
   "outputs": [
    {
     "data": {
      "text/plain": [
       "PosixPath('/home/jimmy/Code/FantasyFootball/data/raw/fbref')"
      ]
     },
     "execution_count": 40,
     "metadata": {},
     "output_type": "execute_result"
    }
   ],
   "source": [
    "data_dir"
   ]
  },
  {
   "cell_type": "code",
   "execution_count": 44,
   "id": "6921ecbbbbedd337",
   "metadata": {
    "ExecuteTime": {
     "end_time": "2024-12-03T16:31:06.746701Z",
     "start_time": "2024-12-03T16:31:06.742963Z"
    }
   },
   "outputs": [
    {
     "data": {
      "text/plain": [
       "PosixPath('/home/jimmy/Code/FantasyFootball/data/processed/fbref')"
      ]
     },
     "execution_count": 44,
     "metadata": {},
     "output_type": "execute_result"
    }
   ],
   "source": []
  },
  {
   "cell_type": "code",
   "execution_count": 47,
   "id": "18df3e3b498876e0",
   "metadata": {
    "ExecuteTime": {
     "end_time": "2024-12-03T16:32:18.628553Z",
     "start_time": "2024-12-03T16:32:18.474102Z"
    }
   },
   "outputs": [],
   "source": [
    "df.sort(\"Date\", \"Country\", \"Tier\", \"Round\", \"Wk\").write_parquet(\n",
    "    processed_path / \"match_stats\" / \"results.parquet\"\n",
    ")"
   ]
  },
  {
   "cell_type": "code",
   "execution_count": 49,
   "id": "afc97c4b02d31352",
   "metadata": {
    "ExecuteTime": {
     "end_time": "2024-12-03T16:33:00.508028Z",
     "start_time": "2024-12-03T16:33:00.472794Z"
    }
   },
   "outputs": [
    {
     "ename": "FileNotFoundError",
     "evalue": "No such file or directory (os error 2): /home/jimmy/Code/FantasyFootball/data/raw/fbref/ESP/1st/2019/match_stats/lineup.csv",
     "output_type": "error",
     "traceback": [
      "\u001b[0;31m---------------------------------------------------------------------------\u001b[0m",
      "\u001b[0;31mFileNotFoundError\u001b[0m                         Traceback (most recent call last)",
      "Cell \u001b[0;32mIn[49], line 1\u001b[0m\n\u001b[0;32m----> 1\u001b[0m lineup \u001b[38;5;241m=\u001b[39m \u001b[43mpl\u001b[49m\u001b[38;5;241;43m.\u001b[39;49m\u001b[43mscan_csv\u001b[49m\u001b[43m(\u001b[49m\u001b[43mlineup_files\u001b[49m\u001b[43m)\u001b[49m\u001b[38;5;241;43m.\u001b[39;49m\u001b[43mcollect\u001b[49m\u001b[43m(\u001b[49m\u001b[43m)\u001b[49m\n",
      "File \u001b[0;32m~/Code/FantasyFootball/.venv/lib/python3.12/site-packages/polars/lazyframe/frame.py:2029\u001b[0m, in \u001b[0;36mLazyFrame.collect\u001b[0;34m(self, type_coercion, predicate_pushdown, projection_pushdown, simplify_expression, slice_pushdown, comm_subplan_elim, comm_subexpr_elim, cluster_with_columns, collapse_joins, no_optimization, streaming, engine, background, _eager, **_kwargs)\u001b[0m\n\u001b[1;32m   2027\u001b[0m \u001b[38;5;66;03m# Only for testing purposes\u001b[39;00m\n\u001b[1;32m   2028\u001b[0m callback \u001b[38;5;241m=\u001b[39m _kwargs\u001b[38;5;241m.\u001b[39mget(\u001b[38;5;124m\"\u001b[39m\u001b[38;5;124mpost_opt_callback\u001b[39m\u001b[38;5;124m\"\u001b[39m, callback)\n\u001b[0;32m-> 2029\u001b[0m \u001b[38;5;28;01mreturn\u001b[39;00m wrap_df(\u001b[43mldf\u001b[49m\u001b[38;5;241;43m.\u001b[39;49m\u001b[43mcollect\u001b[49m\u001b[43m(\u001b[49m\u001b[43mcallback\u001b[49m\u001b[43m)\u001b[49m)\n",
      "\u001b[0;31mFileNotFoundError\u001b[0m: No such file or directory (os error 2): /home/jimmy/Code/FantasyFootball/data/raw/fbref/ESP/1st/2019/match_stats/lineup.csv"
     ]
    }
   ],
   "source": [
    "lineup = pl.scan_csv(lineup_files).collect()"
   ]
  },
  {
   "cell_type": "code",
   "execution_count": null,
   "id": "cdc5a234995345ea",
   "metadata": {},
   "outputs": [],
   "source": [
    "def get_fbref_data(data_dir):\n",
    "    files = data_dir.glob(\"*.csv\")\n",
    "    data = {}\n",
    "    for file in files:\n",
    "        data[file.stem] = pd.read_csv(file)\n",
    "    return data"
   ]
  },
  {
   "cell_type": "code",
   "execution_count": null,
   "id": "3f0c0713be9a70cd",
   "metadata": {},
   "outputs": [],
   "source": [
    "big5_data = get_fbref_data(data_dir / \"big5\")"
   ]
  },
  {
   "cell_type": "code",
   "execution_count": null,
   "id": "104a907d4cfcff1a",
   "metadata": {},
   "outputs": [],
   "source": [
    "big5_data[\"2020_M_misc_team\"].memory_usage(deep=True).sum() / 1024**2"
   ]
  },
  {
   "cell_type": "code",
   "execution_count": null,
   "id": "35dabdf4bc2648e1",
   "metadata": {},
   "outputs": [],
   "source": [
    "team_stats = set([k.split(\"_\")[2] + \"_team\" for k in big5_data.keys() if \"team\" in k])\n",
    "player_stats = set(\n",
    "    [k.split(\"_\")[2] + \"_player\" for k in big5_data.keys() if \"player\" in k]\n",
    ")"
   ]
  },
  {
   "cell_type": "code",
   "execution_count": null,
   "id": "620aca345751dfde",
   "metadata": {},
   "outputs": [],
   "source": [
    "def join_csvs(regex_pattern, directory):\n",
    "    \"\"\"Join all csvs in a directory that match a regex pattern in their filename\"\"\"\n",
    "    csvs = sorted(list(Path(directory).rglob(regex_pattern)))\n",
    "    if len(csvs) == 0:\n",
    "        raise FileNotFoundError(\n",
    "            f\"No files found in {directory} that match {regex_pattern}\"\n",
    "        )\n",
    "    df = pd.concat([pd.read_csv(csv) for csv in csvs])\n",
    "    if \"Unnamed: 0\" in df.columns:\n",
    "        df.drop(\"Unnamed: 0\", axis=1, inplace=True)\n",
    "    return df"
   ]
  },
  {
   "cell_type": "markdown",
   "id": "ac0fb66f5b37e4a9",
   "metadata": {},
   "source": ""
  },
  {
   "cell_type": "code",
   "execution_count": null,
   "id": "242ed9a662ae522a",
   "metadata": {},
   "outputs": [],
   "source": [
    "t = join_csvs(\"*misc_player.csv\", data_dir / \"big5\")"
   ]
  },
  {
   "cell_type": "code",
   "execution_count": null,
   "id": "7af277bb107f06d2",
   "metadata": {},
   "outputs": [],
   "source": [
    "test1 = pd.read_csv(\n",
    "    \"/home/jimmy/Dropbox/Code/Python/FantasyFootball/data/FBRef/ENG/t1_2013_M_defense_match_stats_team.csv\"\n",
    ")"
   ]
  },
  {
   "cell_type": "code",
   "execution_count": null,
   "id": "e9003990d8ba979c",
   "metadata": {},
   "outputs": [],
   "source": [
    "test1"
   ]
  },
  {
   "cell_type": "code",
   "execution_count": null,
   "id": "3f1fcb6dbc809f58",
   "metadata": {},
   "outputs": [],
   "source": [
    "test1.columns"
   ]
  },
  {
   "cell_type": "code",
   "execution_count": null,
   "id": "96d6a6a09b6200c",
   "metadata": {},
   "outputs": [],
   "source": []
  }
 ],
 "metadata": {
  "kernelspec": {
   "display_name": "Python 3",
   "language": "python",
   "name": "python3"
  },
  "language_info": {
   "codemirror_mode": {
    "name": "ipython",
    "version": 2
   },
   "file_extension": ".py",
   "mimetype": "text/x-python",
   "name": "python",
   "nbconvert_exporter": "python",
   "pygments_lexer": "ipython2",
   "version": "2.7.6"
  }
 },
 "nbformat": 4,
 "nbformat_minor": 5
}
