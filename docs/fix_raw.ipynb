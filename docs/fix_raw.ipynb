{
 "cells": [
  {
   "cell_type": "code",
   "execution_count": 117,
   "id": "c4d4057187aa73df",
   "metadata": {
    "ExecuteTime": {
     "end_time": "2024-12-03T15:05:24.545697Z",
     "start_time": "2024-12-03T15:05:24.542977Z"
    }
   },
   "outputs": [],
   "source": [
    "import pandas as pd\n",
    "from pathlib import Path\n",
    "\n",
    "data_dir = Path(\"../data/raw/fbref\")"
   ]
  },
  {
   "cell_type": "code",
   "execution_count": 118,
   "id": "c6097f9e8167f813",
   "metadata": {
    "ExecuteTime": {
     "end_time": "2024-12-03T15:05:34.127812Z",
     "start_time": "2024-12-03T15:05:33.966421Z"
    }
   },
   "outputs": [],
   "source": [
    "csvs = list(data_dir.glob(\"**/*.csv\"))"
   ]
  },
  {
   "cell_type": "code",
   "execution_count": 124,
   "id": "4d7e19b6e41e859a",
   "metadata": {
    "ExecuteTime": {
     "end_time": "2024-12-03T15:08:59.440153Z",
     "start_time": "2024-12-03T15:08:23.118391Z"
    }
   },
   "outputs": [],
   "source": [
    "for f in csvs:\n",
    "    df = pd.read_csv(f)\n",
    "    if \"Date\" in df.columns and df[\"Date\"].dtype == \"float64\":\n",
    "        df[\"Date\"] = pd.to_datetime(df[\"Date\"], unit=\"D\", origin=\"1970-01-01\")\n",
    "        df.to_csv(f, index=False)"
   ]
  },
  {
   "cell_type": "code",
   "execution_count": 110,
   "id": "ca686c5856daaad4",
   "metadata": {
    "ExecuteTime": {
     "end_time": "2024-11-30T19:56:06.993876Z",
     "start_time": "2024-11-30T19:56:06.902673Z"
    }
   },
   "outputs": [],
   "source": [
    "def dedupe(df, season, country):\n",
    "    df_2 = df.copy()\n",
    "    if \"Gender\" in df.columns:\n",
    "        df_2[\"Gender\"] = \"M\"\n",
    "    if \"Season_End_Year\" in df.columns:\n",
    "        df_2[\"Season_End_Year\"] = season\n",
    "    if \"Country\" in df.columns:\n",
    "        df_2[\"Country\"] = country\n",
    "    if \"Tier\" in df.columns:\n",
    "        df_2[\"Tier\"] = \"1st\"\n",
    "    if \"Competition_Name\" in df.columns:\n",
    "        df_2[\"Competition_Name\"] = df_2[\"Competition_Name\"].ffill()\n",
    "\n",
    "    if \"Game_URL\" in df.columns:\n",
    "        df_2[\"MatchURL\"] = df_2[\"Game_URL\"]\n",
    "        df[\"MatchURL\"] = df[\"Game_URL\"]\n",
    "    # fill numeric cols with 0\n",
    "    group_keys = []\n",
    "    for col in [\n",
    "        \"MatchURL\",\n",
    "        \"Team\",\n",
    "        \"Player\",\n",
    "        \"Squad\",\n",
    "        \"Team_or_Opponent\",\n",
    "        \"url\",\n",
    "        \"Home_Team\",\n",
    "        \"Away_Team\",\n",
    "        \"Match_Date\",\n",
    "        \"Event_Time\",\n",
    "        \"Event_Type\",\n",
    "        \"Event_Players\",\n",
    "    ]:\n",
    "        if col in df_2.columns:\n",
    "            group_keys.append(col)\n",
    "    numeric_cols = [x for x in df_2.columns if df_2[x].dtype in [\"int64\", \"float64\"]]\n",
    "    df_2[numeric_cols] = df_2[numeric_cols].fillna(0)\n",
    "    df_2 = df_2.drop_duplicates()\n",
    "    df_2 = df_2.groupby(group_keys).head(1)\n",
    "    init_keys = df[group_keys].drop_duplicates().dropna()\n",
    "    new_keys = df_2[group_keys].drop_duplicates()\n",
    "    init_keys.merge(new_keys, how=\"outer\", indicator=True).query('_merge==\"left_only\"')\n",
    "    if not init_keys.equals(new_keys):\n",
    "        raise ValueError(\"Keys are not the same\")\n",
    "    return df_2\n",
    "\n",
    "\n",
    "df = pd.read_csv(f)\n",
    "df_2 = dedupe(df, 2017, \"ENG\")"
   ]
  },
  {
   "cell_type": "code",
   "execution_count": null,
   "id": "initial_id",
   "metadata": {
    "collapsed": true
   },
   "outputs": [],
   "source": [
    "tier = \"1st\"\n",
    "for season in range(2017, 2026):\n",
    "    for country in [\"ENG\", \"GER\", \"ITA\", \"FRA\", \"ESP\"]:\n",
    "        p = data_dir / country / tier / str(season)\n",
    "        files = list(p.glob(f\"**/*.csv\"))\n",
    "        for f in files:\n",
    "            df = pd.read_csv(f)\n",
    "            df_2 = dedupe(df, season, country)\n",
    "            if df_2.equals(df):\n",
    "                continue\n",
    "            else:\n",
    "                print(f\"Saving {f}\")\n",
    "                df_2.to_csv(f, index=False)"
   ]
  },
  {
   "cell_type": "code",
   "execution_count": 115,
   "id": "a32465658503bfee",
   "metadata": {
    "ExecuteTime": {
     "end_time": "2024-11-30T20:05:31.502024Z",
     "start_time": "2024-11-30T20:05:31.366525Z"
    }
   },
   "outputs": [],
   "source": [
    "for tier in [\"2nd\", \"3rd\", \"4th\", \"5th\"]:\n",
    "    for season in range(2017, 2026):\n",
    "        for country in [\"ENG\"]:\n",
    "            p = data_dir / country / tier / str(season)\n",
    "            results = p / \"match_stats\" / \"results.csv\"\n",
    "            urls = p / \"match_stats\" / \"urls.csv\"\n",
    "            if results.exists():\n",
    "                df = pd.read_csv(results)\n",
    "                match_urls = df[\"MatchURL\"].drop_duplicates()\n",
    "            if not urls.exists():\n",
    "                pd.DataFrame({\"url\": match_urls}).to_csv(urls, index=False)"
   ]
  },
  {
   "cell_type": "code",
   "execution_count": 33,
   "id": "329f165853d8c98b",
   "metadata": {
    "ExecuteTime": {
     "end_time": "2024-11-30T19:35:25.324790Z",
     "start_time": "2024-11-30T19:35:25.095686Z"
    }
   },
   "outputs": [],
   "source": [
    "df = pd.read_csv(\n",
    "    \"/home/jimmy/Code/FantasyFootball/data/raw/fbref/ITA/1st/2022/match_stats/player/summary.csv\"\n",
    ")\n",
    "df_2 = dedupe(df, 2022, \"ITA\")"
   ]
  },
  {
   "cell_type": "code",
   "execution_count": 67,
   "id": "aca1a8fc6374baf5",
   "metadata": {
    "ExecuteTime": {
     "end_time": "2024-11-30T19:42:08.403349Z",
     "start_time": "2024-11-30T19:42:08.400339Z"
    }
   },
   "outputs": [
    {
     "data": {
      "text/plain": [
       "PosixPath('../data/raw/fbref/ENG/1st/2017/match_stats/report.csv')"
      ]
     },
     "execution_count": 67,
     "metadata": {},
     "output_type": "execute_result"
    }
   ],
   "source": [
    "f"
   ]
  },
  {
   "cell_type": "code",
   "execution_count": 69,
   "id": "9f69b965646fecc8",
   "metadata": {
    "ExecuteTime": {
     "end_time": "2024-11-30T19:42:23.505108Z",
     "start_time": "2024-11-30T19:42:23.351172Z"
    }
   },
   "outputs": [
    {
     "ename": "ValueError",
     "evalue": "Keys are not the same",
     "output_type": "error",
     "traceback": [
      "\u001b[0;31m---------------------------------------------------------------------------\u001b[0m",
      "\u001b[0;31mValueError\u001b[0m                                Traceback (most recent call last)",
      "Cell \u001b[0;32mIn[69], line 2\u001b[0m\n\u001b[1;32m      1\u001b[0m df \u001b[38;5;241m=\u001b[39m pd\u001b[38;5;241m.\u001b[39mread_csv(f)\n\u001b[0;32m----> 2\u001b[0m df_2 \u001b[38;5;241m=\u001b[39m \u001b[43mdedupe\u001b[49m\u001b[43m(\u001b[49m\u001b[43mdf\u001b[49m\u001b[43m,\u001b[49m\u001b[43m \u001b[49m\u001b[38;5;241;43m2017\u001b[39;49m\u001b[43m,\u001b[49m\u001b[43m \u001b[49m\u001b[38;5;124;43m\"\u001b[39;49m\u001b[38;5;124;43mENG\u001b[39;49m\u001b[38;5;124;43m\"\u001b[39;49m\u001b[43m)\u001b[49m\n",
      "Cell \u001b[0;32mIn[65], line 25\u001b[0m, in \u001b[0;36mdedupe\u001b[0;34m(df, season, country)\u001b[0m\n\u001b[1;32m     23\u001b[0m new_keys \u001b[38;5;241m=\u001b[39m df_2[group_keys]\u001b[38;5;241m.\u001b[39mdrop_duplicates()\n\u001b[1;32m     24\u001b[0m \u001b[38;5;28;01mif\u001b[39;00m \u001b[38;5;129;01mnot\u001b[39;00m init_keys\u001b[38;5;241m.\u001b[39mequals(new_keys):\n\u001b[0;32m---> 25\u001b[0m     \u001b[38;5;28;01mraise\u001b[39;00m \u001b[38;5;167;01mValueError\u001b[39;00m(\u001b[38;5;124m\"\u001b[39m\u001b[38;5;124mKeys are not the same\u001b[39m\u001b[38;5;124m\"\u001b[39m)\n\u001b[1;32m     26\u001b[0m \u001b[38;5;28;01mreturn\u001b[39;00m df_2\n",
      "\u001b[0;31mValueError\u001b[0m: Keys are not the same"
     ]
    }
   ],
   "source": []
  }
 ],
 "metadata": {
  "kernelspec": {
   "display_name": "Python 3",
   "language": "python",
   "name": "python3"
  },
  "language_info": {
   "codemirror_mode": {
    "name": "ipython",
    "version": 2
   },
   "file_extension": ".py",
   "mimetype": "text/x-python",
   "name": "python",
   "nbconvert_exporter": "python",
   "pygments_lexer": "ipython2",
   "version": "2.7.6"
  }
 },
 "nbformat": 4,
 "nbformat_minor": 5
}
